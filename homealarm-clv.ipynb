{
 "cells": [
  {
   "cell_type": "markdown",
   "metadata": {},
   "source": [
    "# Home Alarm CLV\n",
    "\n",
    "Prepare \"Home Alarm, Inc.: Assessing Customer Lifetime Value\" for class discussion and as an individual assignment and submit the assignment through GitLab. Be VERY clear about where results are coming from and what assumptions you are making in your Python code. It is in your best interest that we do not have to struggle to figure out where your numbers came from. The assignment (pdf) is on Canvas (week2/homealarm-clv.pdf). Example Excel calculations are also on Canvas (week1/aws-clv.xlsx and week1/notflix-cls.xlsx).\n",
    "\n",
    "## Setup\n",
    "\n",
    "Use this Jupyter notebook to calculate the CLV for a customer that uses auto-pay and for a customer that does not use auto-pay and answer question 1 through 4 in the assignment PDF.\n",
    "\n",
    "## Hints\n",
    "\n",
    "Add text motivating your work in Markdown format. Markdown is a simple formatting syntax for authoring HTML. For more details on using markdown go to http://commonmark.org/help/ for a 10-minute interactive Markdown tutorial\n",
    "\n",
    "Please generate an HTML (Notebook) with your answers to all the questions listed in the homealarm-clv.pdf file on Canvas. When you have finished editing the jupyter notebook and generated the HTML report make sure to save, commit, and push to GitLab. We will collect all files from GitLab after the due date.\n",
    "\n",
    "Use File > Export Notebook As... > Export Notebook to HTML to get the html report and include the jupyter notebook file and the HTML file in your submission.\n",
    "\n",
    "## Analysis\n",
    "\n",
    "The python dictionary below contains information about attrition notifications from the table on page 3 of the assignment PDF.\n",
    "\n",
    "Note: GitLab will automatically tests if your work is fully reproducible each time to \"push\" changes (see .gitlab-ci.yml for the configuration). If you get an email from GitLab stating that there was an error, it suggests a problem in your code. Note that the setup for the Home Alarm assignment will *not* test if your analysis is correct. Only if the code is valid and runs without issue in the docker container.\n"
   ]
  },
  {
   "cell_type": "code",
   "execution_count": 64,
   "metadata": {},
   "outputs": [],
   "source": [
    "import pandas as pd\n",
    "import numpy as np\n",
    "import seaborn as sns\n",
    "import matplotlib.pyplot as plt"
   ]
  },
  {
   "cell_type": "code",
   "execution_count": 65,
   "metadata": {},
   "outputs": [],
   "source": [
    "churn = pd.DataFrame(\n",
    "    {\n",
    "        \"autopay\": [0.032, 0.070, 0.097, 0.103, 0.095, 0.078, 0.069, 0.059, 0.053],\n",
    "        \"no_autopay\": [0.084, 0.122, 0.162, 0.154, 0.134, 0.120, 0.111, 0.096, 0.086],\n",
    "    }\n",
    ")"
   ]
  },
  {
   "cell_type": "markdown",
   "metadata": {},
   "source": [
    "### Create a new DataFrame `churn8` that has the churn values to use for the rest of the caculations"
   ]
  },
  {
   "cell_type": "code",
   "execution_count": 66,
   "metadata": {},
   "outputs": [],
   "source": [
    "churn8 = pd.DataFrame(\n",
    "    { #year1 to year8\n",
    "        \"autopay\": [0.032, 0.070, 0.097, 0.103, 0.095, 0.078, 0.069, 0.059],\n",
    "        \"no_autopay\": [0.084, 0.122, 0.162, 0.154, 0.134, 0.120, 0.111, 0.096],\n",
    "    }\n",
    ")"
   ]
  },
  {
   "cell_type": "markdown",
   "metadata": {},
   "source": [
    "### List assumptions that apply to both autopay and non-autopay customers"
   ]
  },
  {
   "cell_type": "markdown",
   "metadata": {},
   "source": [
    "**Assumptions:**\n",
    " \n",
    "1. Pessimistic discounting since customers pay at the end of each month, with or without auto-pay.  \n",
    "2. Contracts for residential customers are annually, customer can't cancel until end of year.\n",
    "3. The first year of CLV calculation is year2.\n",
    "4. RMR is $480 for the first full year of the CLV calculation.\n",
    "5. Neglect the installation charge and cost because the CLV calculation is based on exiting residential customers.\n",
    "6. Discount number start from 1 given pessimistic discounting in the CLV calculation.\n",
    "7. Customer at first year CLV calculation has renewed the plan."
   ]
  },
  {
   "cell_type": "code",
   "execution_count": 67,
   "metadata": {},
   "outputs": [],
   "source": [
    "# list your assumptions here\n",
    "monthly_revenue = 40 #only for first year, same for both groups\n",
    "annual_growth = 0.03 #general rate increases\n",
    "annual_discount_rate = 0.1 \n",
    "monthly_discount_rate = (1+annual_discount_rate)**(1/12)-1 #around 0.8%\n",
    "cost_service = 0.15*monthly_revenue\n",
    "marketing_cost = 0.05*monthly_revenue #only second year customer\n",
    "nr_years = 8"
   ]
  },
  {
   "cell_type": "markdown",
   "metadata": {},
   "source": [
    "### Calculate CLV for non-autopay customers"
   ]
  },
  {
   "cell_type": "code",
   "execution_count": 68,
   "metadata": {},
   "outputs": [],
   "source": [
    "# create an array with shape (96,) with retention rates \n",
    "# _nap stands for 'non-autopay'\n",
    "import numpy as np\n",
    "\n",
    "# convert to monthly churn first\n",
    "# monthly_noautopay = [1-(1-x)**(1/12) for x in churn8.no_autopay]\n",
    "\n",
    "n2 = 1\n",
    "lsn = []\n",
    "for i in range(8):\n",
    "    nn = n2*(1-churn8.no_autopay[i])\n",
    "    n2 = nn \n",
    "    lsn.append(nn)  \n",
    "\n",
    "retention_nap = np.repeat(lsn,12) #shape(96,), same for each year"
   ]
  },
  {
   "cell_type": "code",
   "execution_count": 69,
   "metadata": {},
   "outputs": [],
   "source": [
    "# calculate clv here\n",
    "# you can define additional variables as needed, however \n",
    "# you **must** use the variables below and define them appropriately\n",
    "# each of the variables defined below must have shape (96,)\n",
    "# the clv_nap variable will show the CLV value if evaluated at\n",
    "# month 1, 2, ..., 96\n",
    "discount_nap = np.array(range(1,97))\n",
    "\n",
    "revenues_nap = np.repeat([40*(1+0.03)**x for x in range(8)],12)\n",
    "service_nap = 0.15*revenues_nap\n",
    "marketing_nap = 0.05*revenues_nap\n",
    "profit_nap = revenues_nap - service_nap - marketing_nap\n",
    "expected_profit_nap = profit_nap*retention_nap\n",
    "pv_expected_profit_nap = expected_profit_nap/(1+monthly_discount_rate)**discount_nap # present value of expected profits\n",
    "\n",
    "clv_nap_list = [pv_expected_profit_nap[0]]\n",
    "for i in range(1,96):\n",
    "    money = pv_expected_profit_nap[i] + clv_nap_list[i-1]\n",
    "    clv_nap_list.append(money)\n",
    "    \n",
    "clv_nap = np.array(clv_nap_list)"
   ]
  },
  {
   "cell_type": "markdown",
   "metadata": {},
   "source": [
    "### Calculate CLV for autopay customers"
   ]
  },
  {
   "cell_type": "code",
   "execution_count": 70,
   "metadata": {},
   "outputs": [],
   "source": [
    "# create an array with shape (96,) with retention rates \n",
    "# _ap stands for 'autopay'\n",
    "\n",
    "# convert to monthly churn first\n",
    "# monthly_autopay = [1-(1-x)**(1/12) for x in churn8.autopay]\n",
    "\n",
    "a2 = 1\n",
    "lsa = []\n",
    "for i in range(8):\n",
    "    aa = a2*(1-churn8.autopay[i])\n",
    "    a2 = aa\n",
    "    lsa.append(aa)\n",
    "    \n",
    "retention_ap = np.repeat(lsa,12) #shape(96,), same for each year"
   ]
  },
  {
   "cell_type": "code",
   "execution_count": 71,
   "metadata": {},
   "outputs": [],
   "source": [
    "# calculate clv here\n",
    "# you can define additional variables as needed, however \n",
    "# you **must** use the variables below and define them appropriately\n",
    "# each of the variables defined below must have shape (96,)\n",
    "# the clv_ap variable will show the CLV value if evaluated at\n",
    "# month 1, 2, ..., 96\n",
    "discount_ap = np.array(range(1,97))\n",
    "\n",
    "revenues_ap = np.repeat([40*(1+0.03)**x for x in range(8)],12)\n",
    "service_ap = 0.15*revenues_ap\n",
    "marketing_ap = 0.05*revenues_ap\n",
    "profit_ap = revenues_ap - service_ap - marketing_ap\n",
    "expected_profit_ap = profit_ap*retention_ap\n",
    "pv_expected_profit_ap = expected_profit_ap/(1+monthly_discount_rate)**discount_ap # present value of expected profits\n",
    "\n",
    "clv_ap_list = [pv_expected_profit_ap[0]]\n",
    "for i in range(1,96):\n",
    "    money = pv_expected_profit_ap[i] + clv_ap_list[i-1]\n",
    "    clv_ap_list.append(money)\n",
    "    \n",
    "clv_ap = np.array(clv_ap_list)"
   ]
  },
  {
   "cell_type": "code",
   "execution_count": 72,
   "metadata": {},
   "outputs": [
    {
     "data": {
      "text/html": [
       "<div>\n",
       "<style scoped>\n",
       "    .dataframe tbody tr th:only-of-type {\n",
       "        vertical-align: middle;\n",
       "    }\n",
       "\n",
       "    .dataframe tbody tr th {\n",
       "        vertical-align: top;\n",
       "    }\n",
       "\n",
       "    .dataframe thead th {\n",
       "        text-align: right;\n",
       "    }\n",
       "</style>\n",
       "<table border=\"1\" class=\"dataframe\">\n",
       "  <thead>\n",
       "    <tr style=\"text-align: right;\">\n",
       "      <th></th>\n",
       "      <th>Time</th>\n",
       "      <th>autopay</th>\n",
       "      <th>no_autopay</th>\n",
       "      <th>r_autopay</th>\n",
       "      <th>r_no_autopay</th>\n",
       "    </tr>\n",
       "  </thead>\n",
       "  <tbody>\n",
       "    <tr>\n",
       "      <th>0</th>\n",
       "      <td>1</td>\n",
       "      <td>30.730947</td>\n",
       "      <td>29.080111</td>\n",
       "      <td>0.968000</td>\n",
       "      <td>0.916000</td>\n",
       "    </tr>\n",
       "    <tr>\n",
       "      <th>1</th>\n",
       "      <td>2</td>\n",
       "      <td>61.218780</td>\n",
       "      <td>57.930168</td>\n",
       "      <td>0.968000</td>\n",
       "      <td>0.916000</td>\n",
       "    </tr>\n",
       "    <tr>\n",
       "      <th>2</th>\n",
       "      <td>3</td>\n",
       "      <td>91.465422</td>\n",
       "      <td>86.551990</td>\n",
       "      <td>0.968000</td>\n",
       "      <td>0.916000</td>\n",
       "    </tr>\n",
       "    <tr>\n",
       "      <th>3</th>\n",
       "      <td>4</td>\n",
       "      <td>121.472781</td>\n",
       "      <td>114.947384</td>\n",
       "      <td>0.968000</td>\n",
       "      <td>0.916000</td>\n",
       "    </tr>\n",
       "    <tr>\n",
       "      <th>4</th>\n",
       "      <td>5</td>\n",
       "      <td>151.242750</td>\n",
       "      <td>143.118139</td>\n",
       "      <td>0.968000</td>\n",
       "      <td>0.916000</td>\n",
       "    </tr>\n",
       "    <tr>\n",
       "      <th>...</th>\n",
       "      <td>...</td>\n",
       "      <td>...</td>\n",
       "      <td>...</td>\n",
       "      <td>...</td>\n",
       "      <td>...</td>\n",
       "    </tr>\n",
       "    <tr>\n",
       "      <th>91</th>\n",
       "      <td>92</td>\n",
       "      <td>1706.326440</td>\n",
       "      <td>1397.256739</td>\n",
       "      <td>0.533037</td>\n",
       "      <td>0.349201</td>\n",
       "    </tr>\n",
       "    <tr>\n",
       "      <th>92</th>\n",
       "      <td>93</td>\n",
       "      <td>1716.348905</td>\n",
       "      <td>1403.822610</td>\n",
       "      <td>0.533037</td>\n",
       "      <td>0.349201</td>\n",
       "    </tr>\n",
       "    <tr>\n",
       "      <th>93</th>\n",
       "      <td>94</td>\n",
       "      <td>1726.292082</td>\n",
       "      <td>1410.336539</td>\n",
       "      <td>0.533037</td>\n",
       "      <td>0.349201</td>\n",
       "    </tr>\n",
       "    <tr>\n",
       "      <th>94</th>\n",
       "      <td>95</td>\n",
       "      <td>1736.156597</td>\n",
       "      <td>1416.798935</td>\n",
       "      <td>0.533037</td>\n",
       "      <td>0.349201</td>\n",
       "    </tr>\n",
       "    <tr>\n",
       "      <th>95</th>\n",
       "      <td>96</td>\n",
       "      <td>1745.943074</td>\n",
       "      <td>1423.210207</td>\n",
       "      <td>0.533037</td>\n",
       "      <td>0.349201</td>\n",
       "    </tr>\n",
       "  </tbody>\n",
       "</table>\n",
       "<p>96 rows × 5 columns</p>\n",
       "</div>"
      ],
      "text/plain": [
       "    Time      autopay   no_autopay  r_autopay  r_no_autopay\n",
       "0      1    30.730947    29.080111   0.968000      0.916000\n",
       "1      2    61.218780    57.930168   0.968000      0.916000\n",
       "2      3    91.465422    86.551990   0.968000      0.916000\n",
       "3      4   121.472781   114.947384   0.968000      0.916000\n",
       "4      5   151.242750   143.118139   0.968000      0.916000\n",
       "..   ...          ...          ...        ...           ...\n",
       "91    92  1706.326440  1397.256739   0.533037      0.349201\n",
       "92    93  1716.348905  1403.822610   0.533037      0.349201\n",
       "93    94  1726.292082  1410.336539   0.533037      0.349201\n",
       "94    95  1736.156597  1416.798935   0.533037      0.349201\n",
       "95    96  1745.943074  1423.210207   0.533037      0.349201\n",
       "\n",
       "[96 rows x 5 columns]"
      ]
     },
     "execution_count": 72,
     "metadata": {},
     "output_type": "execute_result"
    }
   ],
   "source": [
    "time = np.array(range(1,97))\n",
    "homealarm = pd.DataFrame(\n",
    "    {\"Time\": time, \"autopay\": clv_ap, \"no_autopay\": clv_nap,\"r_autopay\": retention_ap, \"r_no_autopay\": retention_nap}\n",
    ")\n",
    "homealarm"
   ]
  },
  {
   "cell_type": "markdown",
   "metadata": {},
   "source": [
    "### Create a line graph of CLV for both autopay and non-autopay customers "
   ]
  },
  {
   "cell_type": "code",
   "execution_count": 73,
   "metadata": {},
   "outputs": [
    {
     "data": {
      "image/png": "[encoded data removed]",
      "text/plain": [
       "<Figure size 432x288 with 1 Axes>"
      ]
     },
     "metadata": {
      "needs_background": "light"
     },
     "output_type": "display_data"
    }
   ],
   "source": [
    "# enter your code here to create a single plot with 2-lines\n",
    "import matplotlib.pyplot as plt\n",
    "homealarm.plot(x=\"Time\", y=[\"autopay\", \"no_autopay\"])\n",
    "plt.title(\"CLV for both autopay and non-autopay customer\")\n",
    "plt.show()"
   ]
  },
  {
   "cell_type": "markdown",
   "metadata": {},
   "source": [
    "### Create a line graph of the retention rate for both autopay and non-autopay customer "
   ]
  },
  {
   "cell_type": "code",
   "execution_count": 74,
   "metadata": {},
   "outputs": [
    {
     "data": {
      "image/png": "[encoded data removed]",
      "text/plain": [
       "<Figure size 432x288 with 1 Axes>"
      ]
     },
     "metadata": {
      "needs_background": "light"
     },
     "output_type": "display_data"
    }
   ],
   "source": [
    "# enter your code here to create a single plot with 2-lines\n",
    "retention = pd.DataFrame(\n",
    "    {\"Time\": time, \"autopay\": retention_ap, \"no_autopay\": retention_nap}\n",
    ")\n",
    "retention.plot(x=\"Time\", y=[\"autopay\", \"no_autopay\"])\n",
    "plt.title(\"retention rate for both autopay and non-autopay customer\")\n",
    "plt.show()"
   ]
  },
  {
   "cell_type": "markdown",
   "metadata": {},
   "source": [
    "### Calculate the maximum amount to spend on autopay incentives"
   ]
  },
  {
   "cell_type": "code",
   "execution_count": 75,
   "metadata": {},
   "outputs": [
    {
     "name": "stdout",
     "output_type": "stream",
     "text": [
      "Maxium amount to spend on autopay incentives is 322.73\n"
     ]
    }
   ],
   "source": [
    "max_pay = clv_ap[95] - clv_nap[95] # insert your code here\n",
    "print(f\"Maxium amount to spend on autopay incentives is {max_pay.round(2)}\")"
   ]
  },
  {
   "cell_type": "markdown",
   "metadata": {},
   "source": [
    "### Suggested marketing actions\n",
    "\n",
    "Suggest two marketing actions Home Alarm should consider to convert existing customers to autopay who are about to start their second year with Home Alarm. Be specific about incentive amounts you recommend using (if any)"
   ]
  },
  {
   "cell_type": "markdown",
   "metadata": {},
   "source": [
    "... enter suggested marketing actions here ..."
   ]
  },
  {
   "cell_type": "markdown",
   "metadata": {},
   "source": [
    "**Suggestions:**\n",
    "\n",
    "1. Give one-time reward or discounted monthly price for existing customers at the year they start autopay. The incentive amount I recommend using is \\$200. The reason for me to include more incentive amount in this approach is that rewards would be more direct and attractive. \n",
    "\n",
    "2. Provide additional service in autopay system for the existing customers who switch to autopay. For example, a VIP program where existing customer can accumulate their consumption points and keep a record of order history. The incentive amount I recommend using is \\$122.73. The incentive amount would be mostly spend on the application development."
   ]
  },
  {
   "cell_type": "code",
   "execution_count": null,
   "metadata": {},
   "outputs": [],
   "source": []
  }
 ],
 "metadata": {
  "jupytext": {
   "formats": "ipynb,py:percent"
  },
  "kernelspec": {
   "display_name": "Python 3",
   "language": "python",
   "name": "python3"
  },
  "language_info": {
   "codemirror_mode": {
    "name": "ipython",
    "version": 3
   },
   "file_extension": ".py",
   "mimetype": "text/x-python",
   "name": "python",
   "nbconvert_exporter": "python",
   "pygments_lexer": "ipython3",
   "version": "3.8.5"
  }
 },
 "nbformat": 4,
 "nbformat_minor": 4
}
