{
 "cells": [
  {
   "cell_type": "markdown",
   "metadata": {},
   "source": [
    "This code in thenotebook calculates the CLV for a customer that uses auto-pay and for a customer that does not use auto-pay."
   ]
  },
  {
   "cell_type": "code",
   "execution_count": 1,
   "metadata": {},
   "outputs": [],
   "source": [
    "import pandas as pd\n",
    "import numpy as np\n",
    "import seaborn as sns\n",
    "import matplotlib.pyplot as plt"
   ]
  },
  {
   "cell_type": "code",
   "execution_count": 2,
   "metadata": {},
   "outputs": [],
   "source": [
    "churn = pd.DataFrame(\n",
    "    {\n",
    "        \"autopay\": [0.032, 0.070, 0.097, 0.103, 0.095, 0.078, 0.069, 0.059, 0.053],\n",
    "        \"no_autopay\": [0.084, 0.122, 0.162, 0.154, 0.134, 0.120, 0.111, 0.096, 0.086],\n",
    "    }\n",
    ")"
   ]
  },
  {
   "cell_type": "markdown",
   "metadata": {},
   "source": [
    "### Create a new DataFrame `churn8` that has the churn values to use for the rest of the caculations"
   ]
  },
  {
   "cell_type": "code",
   "execution_count": 3,
   "metadata": {},
   "outputs": [
    {
     "data": {
      "text/html": [
       "<div>\n",
       "<style scoped>\n",
       "    .dataframe tbody tr th:only-of-type {\n",
       "        vertical-align: middle;\n",
       "    }\n",
       "\n",
       "    .dataframe tbody tr th {\n",
       "        vertical-align: top;\n",
       "    }\n",
       "\n",
       "    .dataframe thead th {\n",
       "        text-align: right;\n",
       "    }\n",
       "</style>\n",
       "<table border=\"1\" class=\"dataframe\">\n",
       "  <thead>\n",
       "    <tr style=\"text-align: right;\">\n",
       "      <th></th>\n",
       "      <th>autopay</th>\n",
       "      <th>no_autopay</th>\n",
       "    </tr>\n",
       "  </thead>\n",
       "  <tbody>\n",
       "    <tr>\n",
       "      <th>0</th>\n",
       "      <td>0.000</td>\n",
       "      <td>0.000</td>\n",
       "    </tr>\n",
       "    <tr>\n",
       "      <th>1</th>\n",
       "      <td>0.070</td>\n",
       "      <td>0.122</td>\n",
       "    </tr>\n",
       "    <tr>\n",
       "      <th>2</th>\n",
       "      <td>0.097</td>\n",
       "      <td>0.162</td>\n",
       "    </tr>\n",
       "    <tr>\n",
       "      <th>3</th>\n",
       "      <td>0.103</td>\n",
       "      <td>0.154</td>\n",
       "    </tr>\n",
       "    <tr>\n",
       "      <th>4</th>\n",
       "      <td>0.095</td>\n",
       "      <td>0.134</td>\n",
       "    </tr>\n",
       "    <tr>\n",
       "      <th>5</th>\n",
       "      <td>0.078</td>\n",
       "      <td>0.120</td>\n",
       "    </tr>\n",
       "    <tr>\n",
       "      <th>6</th>\n",
       "      <td>0.069</td>\n",
       "      <td>0.111</td>\n",
       "    </tr>\n",
       "    <tr>\n",
       "      <th>7</th>\n",
       "      <td>0.059</td>\n",
       "      <td>0.096</td>\n",
       "    </tr>\n",
       "  </tbody>\n",
       "</table>\n",
       "</div>"
      ],
      "text/plain": [
       "   autopay  no_autopay\n",
       "0    0.000       0.000\n",
       "1    0.070       0.122\n",
       "2    0.097       0.162\n",
       "3    0.103       0.154\n",
       "4    0.095       0.134\n",
       "5    0.078       0.120\n",
       "6    0.069       0.111\n",
       "7    0.059       0.096"
      ]
     },
     "execution_count": 3,
     "metadata": {},
     "output_type": "execute_result"
    }
   ],
   "source": [
    "churn8 = churn.iloc[:-1,:].copy()\n",
    "churn8.iloc[0] = 0\n",
    "churn8"
   ]
  },
  {
   "cell_type": "markdown",
   "metadata": {},
   "source": [
    "**Assumptions:**\n",
    " \n",
    "1. Pessimistic discounting since customers pay at the end of each month, with or without auto-pay.  \n",
    "2. Contracts for residential customers are annually, customer can't cancel until end of year.\n",
    "3. The first year of CLV calculation is year2.\n",
    "4. RMR is $480 for the first full year of the CLV calculation.\n",
    "5. Neglect the installation charge and cost because the CLV calculation is based on exiting residential customers.\n",
    "6. Discount number start from 1 given pessimistic discounting in the CLV calculation.\n",
    "7. Customer at first year CLV calculation has renewed the plan."
   ]
  },
  {
   "cell_type": "code",
   "execution_count": 4,
   "metadata": {},
   "outputs": [],
   "source": [
    "monthly_revenue = 40 #only for first year, same for both groups\n",
    "annual_growth = 0.03 #general rate increases\n",
    "annual_discount_rate = 0.1 \n",
    "monthly_discount_rate = (1+annual_discount_rate)**(1/12)-1 #around 0.8%\n",
    "cost_service = 0.15*monthly_revenue\n",
    "marketing_cost = 0.05*monthly_revenue #only second year customer\n",
    "nr_years = 8"
   ]
  },
  {
   "cell_type": "markdown",
   "metadata": {},
   "source": [
    "### Calculate CLV for non-autopay customers"
   ]
  },
  {
   "cell_type": "code",
   "execution_count": 5,
   "metadata": {},
   "outputs": [],
   "source": [
    "# create an array with retention rates \n",
    "# convert to monthly churn first\n",
    "# monthly_noautopay = [1-(1-x)**(1/12) for x in churn8.no_autopay]\n",
    "\n",
    "n2 = 1\n",
    "lsn = []\n",
    "for i in range(8):\n",
    "    nn = n2*(1-churn8.no_autopay[i])\n",
    "    n2 = nn \n",
    "    lsn.append(nn)  \n",
    "\n",
    "retention_nap = np.repeat(lsn,12) #shape(96,), same for each year"
   ]
  },
  {
   "cell_type": "code",
   "execution_count": 6,
   "metadata": {},
   "outputs": [],
   "source": [
    "# calculate clv \n",
    "discount_nap = np.array(range(1,97))\n",
    "\n",
    "revenues_nap = np.repeat([40*(1+0.03)**x for x in range(8)],12)\n",
    "service_nap = 0.15*revenues_nap\n",
    "marketing_nap = 0.05*revenues_nap\n",
    "profit_nap = revenues_nap - service_nap - marketing_nap\n",
    "expected_profit_nap = profit_nap*retention_nap\n",
    "pv_expected_profit_nap = expected_profit_nap/(1+monthly_discount_rate)**discount_nap # present value of expected profits\n",
    "\n",
    "clv_nap_list = [pv_expected_profit_nap[0]]\n",
    "for i in range(1,96):\n",
    "    money = pv_expected_profit_nap[i] + clv_nap_list[i-1]\n",
    "    clv_nap_list.append(money)\n",
    "    \n",
    "clv_nap = np.array(clv_nap_list)"
   ]
  },
  {
   "cell_type": "markdown",
   "metadata": {},
   "source": [
    "### Calculate CLV for autopay customers"
   ]
  },
  {
   "cell_type": "code",
   "execution_count": 7,
   "metadata": {},
   "outputs": [],
   "source": [
    "# create an array with retention rates \n",
    "# convert to monthly churn first\n",
    "a2 = 1\n",
    "lsa = []\n",
    "for i in range(8):\n",
    "    aa = a2*(1-churn8.autopay[i])\n",
    "    a2 = aa\n",
    "    lsa.append(aa)\n",
    "    \n",
    "retention_ap = np.repeat(lsa,12) #shape(96,), same for each year"
   ]
  },
  {
   "cell_type": "code",
   "execution_count": 8,
   "metadata": {},
   "outputs": [],
   "source": [
    "# calculate clv \n",
    "discount_ap = np.array(range(1,97))\n",
    "\n",
    "revenues_ap = np.repeat([40*(1+0.03)**x for x in range(8)],12)\n",
    "service_ap = 0.15*revenues_ap\n",
    "marketing_ap = 0.05*revenues_ap\n",
    "profit_ap = revenues_ap - service_ap - marketing_ap\n",
    "expected_profit_ap = profit_ap*retention_ap\n",
    "pv_expected_profit_ap = expected_profit_ap/(1+monthly_discount_rate)**discount_ap # present value of expected profits\n",
    "\n",
    "clv_ap_list = [pv_expected_profit_ap[0]]\n",
    "for i in range(1,96):\n",
    "    money = pv_expected_profit_ap[i] + clv_ap_list[i-1]\n",
    "    clv_ap_list.append(money)\n",
    "    \n",
    "clv_ap = np.array(clv_ap_list)"
   ]
  },
  {
   "cell_type": "code",
   "execution_count": 9,
   "metadata": {},
   "outputs": [
    {
     "data": {
      "text/html": [
       "<div>\n",
       "<style scoped>\n",
       "    .dataframe tbody tr th:only-of-type {\n",
       "        vertical-align: middle;\n",
       "    }\n",
       "\n",
       "    .dataframe tbody tr th {\n",
       "        vertical-align: top;\n",
       "    }\n",
       "\n",
       "    .dataframe thead th {\n",
       "        text-align: right;\n",
       "    }\n",
       "</style>\n",
       "<table border=\"1\" class=\"dataframe\">\n",
       "  <thead>\n",
       "    <tr style=\"text-align: right;\">\n",
       "      <th></th>\n",
       "      <th>Time</th>\n",
       "      <th>autopay</th>\n",
       "      <th>no_autopay</th>\n",
       "      <th>r_autopay</th>\n",
       "      <th>r_no_autopay</th>\n",
       "    </tr>\n",
       "  </thead>\n",
       "  <tbody>\n",
       "    <tr>\n",
       "      <th>0</th>\n",
       "      <td>1</td>\n",
       "      <td>31.746846</td>\n",
       "      <td>31.746846</td>\n",
       "      <td>1.000000</td>\n",
       "      <td>1.000000</td>\n",
       "    </tr>\n",
       "    <tr>\n",
       "      <th>1</th>\n",
       "      <td>2</td>\n",
       "      <td>63.242541</td>\n",
       "      <td>63.242541</td>\n",
       "      <td>1.000000</td>\n",
       "      <td>1.000000</td>\n",
       "    </tr>\n",
       "    <tr>\n",
       "      <th>2</th>\n",
       "      <td>3</td>\n",
       "      <td>94.489072</td>\n",
       "      <td>94.489072</td>\n",
       "      <td>1.000000</td>\n",
       "      <td>1.000000</td>\n",
       "    </tr>\n",
       "    <tr>\n",
       "      <th>3</th>\n",
       "      <td>4</td>\n",
       "      <td>125.488410</td>\n",
       "      <td>125.488410</td>\n",
       "      <td>1.000000</td>\n",
       "      <td>1.000000</td>\n",
       "    </tr>\n",
       "    <tr>\n",
       "      <th>4</th>\n",
       "      <td>5</td>\n",
       "      <td>156.242510</td>\n",
       "      <td>156.242510</td>\n",
       "      <td>1.000000</td>\n",
       "      <td>1.000000</td>\n",
       "    </tr>\n",
       "    <tr>\n",
       "      <th>...</th>\n",
       "      <td>...</td>\n",
       "      <td>...</td>\n",
       "      <td>...</td>\n",
       "      <td>...</td>\n",
       "      <td>...</td>\n",
       "    </tr>\n",
       "    <tr>\n",
       "      <th>91</th>\n",
       "      <td>92</td>\n",
       "      <td>1762.733926</td>\n",
       "      <td>1525.389453</td>\n",
       "      <td>0.550658</td>\n",
       "      <td>0.381223</td>\n",
       "    </tr>\n",
       "    <tr>\n",
       "      <th>92</th>\n",
       "      <td>93</td>\n",
       "      <td>1773.087712</td>\n",
       "      <td>1532.557435</td>\n",
       "      <td>0.550658</td>\n",
       "      <td>0.381223</td>\n",
       "    </tr>\n",
       "    <tr>\n",
       "      <th>93</th>\n",
       "      <td>94</td>\n",
       "      <td>1783.359589</td>\n",
       "      <td>1539.668710</td>\n",
       "      <td>0.550658</td>\n",
       "      <td>0.381223</td>\n",
       "    </tr>\n",
       "    <tr>\n",
       "      <th>94</th>\n",
       "      <td>95</td>\n",
       "      <td>1793.550204</td>\n",
       "      <td>1546.723728</td>\n",
       "      <td>0.550658</td>\n",
       "      <td>0.381223</td>\n",
       "    </tr>\n",
       "    <tr>\n",
       "      <th>95</th>\n",
       "      <td>96</td>\n",
       "      <td>1803.660201</td>\n",
       "      <td>1553.722933</td>\n",
       "      <td>0.550658</td>\n",
       "      <td>0.381223</td>\n",
       "    </tr>\n",
       "  </tbody>\n",
       "</table>\n",
       "<p>96 rows × 5 columns</p>\n",
       "</div>"
      ],
      "text/plain": [
       "    Time      autopay   no_autopay  r_autopay  r_no_autopay\n",
       "0      1    31.746846    31.746846   1.000000      1.000000\n",
       "1      2    63.242541    63.242541   1.000000      1.000000\n",
       "2      3    94.489072    94.489072   1.000000      1.000000\n",
       "3      4   125.488410   125.488410   1.000000      1.000000\n",
       "4      5   156.242510   156.242510   1.000000      1.000000\n",
       "..   ...          ...          ...        ...           ...\n",
       "91    92  1762.733926  1525.389453   0.550658      0.381223\n",
       "92    93  1773.087712  1532.557435   0.550658      0.381223\n",
       "93    94  1783.359589  1539.668710   0.550658      0.381223\n",
       "94    95  1793.550204  1546.723728   0.550658      0.381223\n",
       "95    96  1803.660201  1553.722933   0.550658      0.381223\n",
       "\n",
       "[96 rows x 5 columns]"
      ]
     },
     "execution_count": 9,
     "metadata": {},
     "output_type": "execute_result"
    }
   ],
   "source": [
    "time = np.array(range(1,97))\n",
    "homealarm = pd.DataFrame(\n",
    "    {\"Time\": time, \"autopay\": clv_ap, \"no_autopay\": clv_nap,\"r_autopay\": retention_ap, \"r_no_autopay\": retention_nap}\n",
    ")\n",
    "homealarm"
   ]
  },
  {
   "cell_type": "markdown",
   "metadata": {},
   "source": [
    "### Create a line graph of CLV for both autopay and non-autopay customers "
   ]
  },
  {
   "cell_type": "code",
   "execution_count": 10,
   "metadata": {},
   "outputs": [
    {
     "data": {
      "image/png": "[encoded data removed]",
      "text/plain": [
       "<Figure size 640x480 with 1 Axes>"
      ]
     },
     "metadata": {},
     "output_type": "display_data"
    }
   ],
   "source": [
    "homealarm.plot(x=\"Time\", y=[\"autopay\", \"no_autopay\"])\n",
    "plt.title(\"CLV for both autopay and non-autopay customer\")\n",
    "plt.show()"
   ]
  },
  {
   "cell_type": "markdown",
   "metadata": {},
   "source": [
    "### Create a line graph of the retention rate for both autopay and non-autopay customer "
   ]
  },
  {
   "cell_type": "code",
   "execution_count": 11,
   "metadata": {},
   "outputs": [
    {
     "data": {
      "image/png": "[encoded data removed]",
      "text/plain": [
       "<Figure size 640x480 with 1 Axes>"
      ]
     },
     "metadata": {},
     "output_type": "display_data"
    }
   ],
   "source": [
    "retention = pd.DataFrame(\n",
    "    {\"Time\": time, \"autopay\": retention_ap, \"no_autopay\": retention_nap}\n",
    ")\n",
    "retention.plot(x=\"Time\", y=[\"autopay\", \"no_autopay\"])\n",
    "plt.title(\"retention rate for both autopay and non-autopay customer\")\n",
    "plt.show()"
   ]
  },
  {
   "cell_type": "markdown",
   "metadata": {},
   "source": [
    "### Calculate the maximum amount to spend on autopay incentives"
   ]
  },
  {
   "cell_type": "code",
   "execution_count": 12,
   "metadata": {},
   "outputs": [
    {
     "name": "stdout",
     "output_type": "stream",
     "text": [
      "Maxium amount to spend on autopay incentives is 249.94\n"
     ]
    }
   ],
   "source": [
    "max_pay = clv_ap[95] - clv_nap[95] # insert your code here\n",
    "print(f\"Maxium amount to spend on autopay incentives is {max_pay.round(2)}\")"
   ]
  },
  {
   "cell_type": "markdown",
   "metadata": {},
   "source": [
    "### Suggested marketing actions"
   ]
  },
  {
   "cell_type": "markdown",
   "metadata": {},
   "source": [
    "1. Give one-time reward or discounted monthly price for existing customers at the year they start autopay. The incentive amount I recommend using is \\$20.\n",
    "2. Provide additional service in autopay system for the existing customers who switch to autopay. For example, a VIP program where existing customer can accumulate their consumption points and keep a record of order history. "
   ]
  }
 ],
 "metadata": {
  "jupytext": {
   "formats": "ipynb,py:percent"
  },
  "kernelspec": {
   "display_name": "Python 3 (ipykernel)",
   "language": "python",
   "name": "python3"
  },
  "language_info": {
   "codemirror_mode": {
    "name": "ipython",
    "version": 3
   },
   "file_extension": ".py",
   "mimetype": "text/x-python",
   "name": "python",
   "nbconvert_exporter": "python",
   "pygments_lexer": "ipython3",
   "version": "3.9.15"
  }
 },
 "nbformat": 4,
 "nbformat_minor": 4
}
